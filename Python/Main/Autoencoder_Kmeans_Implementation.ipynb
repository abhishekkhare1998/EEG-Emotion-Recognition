{
 "cells": [
  {
   "cell_type": "code",
   "execution_count": 1,
   "id": "5ebd550e",
   "metadata": {},
   "outputs": [],
   "source": [
    "import tensorflow as tf\n",
    "from tensorflow.keras import Input\n",
    "from tensorflow.keras.layers import Dense\n",
    "from tensorflow.keras.models import Model\n",
    "\n",
    "import torch\n",
    "import numpy as np\n",
    "from numpy import genfromtxt\n",
    "\n",
    "import matplotlib.pyplot as plt\n",
    "from sklearn.preprocessing import StandardScaler\n",
    "from sklearn.cluster import KMeans\n",
    "from sklearn.decomposition import PCA\n",
    "from sklearn.metrics import accuracy_score, normalized_mutual_info_score\n",
    "\n",
    "import os\n",
    "import pandas as pd\n",
    "from StatsClassification import create_labels\n",
    "import math\n",
    "import random"
   ]
  },
  {
   "cell_type": "code",
   "execution_count": 2,
   "id": "673398cf",
   "metadata": {},
   "outputs": [],
   "source": [
    "def create_labels_ind(label_dataframe, index):\n",
    "    #valence_data = label_dataframe.iloc[:, 0]\n",
    "    valence_data = label_dataframe.iloc[:, index]\n",
    "    va_list = []\n",
    "    for i in valence_data:\n",
    "        if i <= 3.5:\n",
    "            va_list.append(1)\n",
    "        if (i > 3.5) and (i <= 6.5):\n",
    "            va_list.append(2)\n",
    "        if i > 6.5:\n",
    "            va_list.append(3)\n",
    "    return va_list"
   ]
  },
  {
   "cell_type": "code",
   "execution_count": 3,
   "id": "bc8a4aeb",
   "metadata": {},
   "outputs": [
    {
     "name": "stdout",
     "output_type": "stream",
     "text": [
      "(744,)\n",
      "[1 2 2 1 2 2 2 3 1 3 3 2 2 2 2 1 3 2 2 1 1 3 2 1 1 2 2 2 2 2 3 3 3 2 1 2 2\n",
      " 2 2 1 1 1 1 2 1 2 2 2 2 2 2 2 3 1 3 2 2 1 2 2 1 1 2 1 2 3 2 3 3 2 3 2 3 2\n",
      " 2 2 2 2 2 2 2 2 2 2 3 3 3 3 3 3 3 3 3 2 3 2 3 2 3 2 1 2 2 3 1 2 2 2 2 2 2\n",
      " 3 3 2 3 3 3 3 2 2 1 1 1 1 2 2 2 2 2 2 1 3 2 2 3 3 3 3 2 2 3 2 1 2 2 3 2 3\n",
      " 3 2 3 3 2 2 3 2 1 1 2 3 2 3 1 2 2 1 1 1 1 1 1 1 2 2 1 2 1 1 1 2 1 2 1 1 1\n",
      " 1 1 1 1 1 1 1 1 1 1 1 1 1 1 1 1 1 1 1 1 1 1 1 1 2 3 3 3 3 3 2 3 1 2 3 3 2\n",
      " 3 2 2 2 2 2 2 2 2 3 2 2 3 2 2 2 2 3 2 3 3 2 2 2 2 2 2 2 2 3 2 2 3 2 2 2 2\n",
      " 2 2 3 3 1 2 1 2 2 2 1 2 3 2 2 2 2 2 2 3 3 2 3 2 2 3 2 2 3 1 3 3 3 3 2 3 3\n",
      " 3 2 3 3 2 1 2 2 3 1 1 1 2 1 1 3 3 1 3 2 3 1 2 1 3 1 1 1 2 2 1 1 3 1 3 3 2\n",
      " 3 2 2 2 2 2 3 2 3 1 1 2 2 2 2 2 2 3 2 2 2 2 2 2 2 3 3 3 3 1 1 1 1 1 2 1 3\n",
      " 1 1 2 1 2 1 2 2 2 1 2 2 1 1 1 3 3 2 3 3 2 3 3 2 3 3 3 3 2 1 2 2 2 2 2 3 3\n",
      " 3 3 2 3 2 2 2 2 2 2 3 2 2 1 3 3 3 2 3 3 2 3 2 2 3 3 2 2 2 3 2 2 3 3 3 2 2\n",
      " 2 2 2 2 2 3 2 3 3 3 2 1 2 2 3 2 2 2 1 1 3 2 2 2 3 3 3 2 3 3 3 2 2 2 3 2 3\n",
      " 1 2 1 2 2 2 2 2 3 3 2 3 3 2 2 3 3 2 2 1 1 3 2 2 3 2 2 2 3 3 2 2 2 3 2 2 2\n",
      " 1 2 1 3 1 2 3 3 1 3 3 1 2 3 3 3 3 1 3 3 1 2 1 1 1 1 1 2 1 1 1 1 1 1 2 1 1\n",
      " 1 1 1 2 2 1 2 3 3 3 3 3 3 3 3 2 2 3 3 3 2 2 1 2 2 2 2 2 2 2 2 2 2 2 1 2 2\n",
      " 2 2 2 2 2 3 1 3 3 3 3 3 1 1 1 1 1 3 1 3 3 2 2 2 1 3 2 2 2 2 2 3 1 3 1 1 1\n",
      " 3 1 2 3 3 3 1 2 1 2 2 3 2 2 3 3 1 2 2 2 1 2 3 2 2 2 2 2 2 2 2 3 3 3 2 2 2\n",
      " 2 1 2 2 2 3 2 1 2 1 2 1 1 2 2 1 2 1 2 2 2 1 1 2 1 3 2 2 3 3 3 1 1 2 2 3 2\n",
      " 2 1 1 2 1 2 2 2 3 2 3 3 2 2 1 2 2 3 2 2 1 2 3 2 2 2 2 2 3 2 2 3 2 2 2 2 2\n",
      " 2 1 2 3]\n",
      "(744,)\n",
      "[2 3 1 3 1 1 1 3 1 1 1 3 3 3 3 3 3 3 2 2 3 3 1 3 2 1 2 1 1 1 1 1 2 3 3 3 2\n",
      " 3 2 3 3 3 2 3 2 1 1 1 1 1 1 2 3 3 3 2 2 2 2 3 2 3 1 3 1 1 1 1 1 3 2 3 3 2\n",
      " 3 3 2 2 2 1 2 3 1 3 1 1 1 1 2 2 1 1 2 3 3 2 1 3 1 3 2 3 2 3 2 2 1 1 1 1 1\n",
      " 2 3 2 3 3 1 3 1 3 2 3 2 3 2 2 2 3 2 2 2 2 3 3 3 3 2 3 2 3 2 3 1 2 2 1 2 1\n",
      " 1 1 1 2 2 2 3 2 3 2 2 2 3 1 3 2 2 3 3 1 3 2 2 1 1 1 1 1 3 3 3 3 2 2 3 1 3\n",
      " 3 3 3 3 3 3 3 3 3 3 3 3 3 3 3 3 3 3 3 3 3 3 1 3 1 1 1 1 1 1 3 3 2 3 3 1 2\n",
      " 2 2 3 3 2 3 2 1 1 1 1 1 1 2 2 2 3 2 2 3 2 2 2 2 2 2 2 2 1 2 1 3 2 3 3 2 3\n",
      " 3 1 3 2 2 3 3 2 3 1 1 1 2 1 2 2 2 3 3 3 2 2 3 2 3 3 3 1 3 2 1 1 1 3 1 1 3\n",
      " 3 3 3 3 1 2 2 1 3 3 1 3 1 1 1 1 1 2 1 3 3 2 3 2 1 3 3 2 3 1 3 1 1 1 1 1 1\n",
      " 1 2 3 3 3 2 2 3 2 3 3 2 3 1 2 1 2 2 1 2 1 2 3 3 2 1 3 2 3 3 3 2 3 1 1 1 1\n",
      " 1 1 1 1 3 3 3 2 1 3 3 1 3 1 3 2 2 1 1 2 1 3 3 2 3 3 1 3 2 3 3 2 1 3 2 1 1\n",
      " 2 1 1 1 3 3 3 3 1 3 1 3 1 2 3 2 1 2 2 3 3 2 2 3 2 3 2 2 3 2 2 2 2 1 1 3 3\n",
      " 1 3 2 1 2 2 2 1 2 3 3 3 3 3 1 3 2 3 2 3 1 2 1 1 1 1 1 1 1 2 3 3 3 3 1 3 2\n",
      " 2 3 3 2 3 2 1 2 2 2 1 2 3 2 3 3 2 2 2 1 1 3 3 2 1 1 2 2 2 3 2 2 3 2 3 2 2\n",
      " 3 3 1 3 1 1 2 1 1 1 1 3 3 3 3 3 3 3 2 3 3 3 2 3 2 2 1 2 2 1 1 3 3 3 3 3 2\n",
      " 3 2 3 3 3 1 3 1 1 1 1 1 2 1 3 2 3 3 3 2 3 2 2 3 3 2 2 2 2 2 2 2 1 2 2 2 2\n",
      " 3 2 3 1 1 2 2 3 1 2 2 3 3 3 2 3 1 2 3 1 1 1 2 1 2 3 3 1 2 3 3 3 3 3 1 3 2\n",
      " 1 1 1 1 1 1 1 3 3 3 3 1 3 2 3 3 3 2 3 1 2 1 3 1 2 1 2 2 3 3 2 2 3 2 3 3 2\n",
      " 2 2 2 2 2 1 1 2 2 2 3 2 3 3 2 3 2 2 2 2 1 3 2 1 2 1 2 1 1 3 3 2 2 3 1 3 2\n",
      " 3 2 3 2 3 2 1 2 2 2 1 2 2 3 3 3 3 1 3 2 2 2 3 2 2 2 2 2 2 1 2 1 3 3 3 2 2\n",
      " 1 2 3 3]\n"
     ]
    }
   ],
   "source": [
    "dataset_used = \"amigos\"  # \"amigos\" or \"dreamer\"\n",
    "current_path = os.getcwd()\n",
    "dataset_folder_path = os.path.join(current_path, \"..\", \"Data\", \"Extracted_features\")\n",
    "dataset_path = dataset_folder_path + r\"\\\\\" + dataset_used + \".csv\"\n",
    "labels_path = dataset_folder_path + r\"\\\\\" + dataset_used + \"_labels.csv\"\n",
    "input_data = pd.read_csv(dataset_path, header=None)\n",
    "input_scores_data = pd.read_csv(labels_path, header=None)\n",
    "labels_values_valence = create_labels_ind(input_scores_data,0)\n",
    "labels_values_arousal = create_labels_ind(input_scores_data,1)\n",
    "\n",
    "labels_values_valence_np = np.array(labels_values_valence)\n",
    "labels_values_arousal_np = np.array(labels_values_arousal)\n",
    "\n",
    "print(np.shape(labels_values_valence_np))\n",
    "print(labels_values_valence_np)\n",
    "\n",
    "print(np.shape(labels_values_arousal_np))\n",
    "print(labels_values_arousal_np)"
   ]
  },
  {
   "cell_type": "code",
   "execution_count": 4,
   "id": "8b1895a5",
   "metadata": {},
   "outputs": [],
   "source": [
    "labels_values_valence_score = labels_values_valence_np \n",
    "labels_values_arousal_score = labels_values_arousal_np "
   ]
  },
  {
   "cell_type": "code",
   "execution_count": 5,
   "id": "0a0f8cee",
   "metadata": {},
   "outputs": [],
   "source": [
    "input_df = Input( shape = (42, ))\n",
    "\n",
    "x = Dense(7, activation = 'relu')(input_df)\n",
    "\n",
    "x = Dense(500, activation = 'relu', kernel_initializer='glorot_uniform')(x)\n",
    "\n",
    "x = Dense(500, activation = 'relu', kernel_initializer='glorot_uniform')(x)\n",
    "\n",
    "x = Dense(2000, activation = 'relu', kernel_initializer='glorot_uniform')(x)\n",
    "\n",
    "encoded = Dense(15, activation = 'relu', kernel_initializer='glorot_uniform')(x)\n",
    "\n",
    "x = Dense(2000, activation = 'relu', kernel_initializer='glorot_uniform')(encoded)\n",
    "\n",
    "x = Dense(500, activation = 'relu', kernel_initializer='glorot_uniform')(x)\n",
    "\n",
    "decoded = Dense(42, kernel_initializer='glorot_uniform')(x)\n",
    "\n",
    "autoencoder = Model(input_df, decoded)\n",
    "\n",
    "encoder = Model(input_df, encoded)\n",
    "\n",
    "autoencoder.compile(optimizer = 'adam', loss = 'mean_squared_error')"
   ]
  },
  {
   "cell_type": "code",
   "execution_count": 6,
   "id": "85a03be7",
   "metadata": {},
   "outputs": [
    {
     "name": "stdout",
     "output_type": "stream",
     "text": [
      "[[0.61898296 0.64280252 0.35056856 ... 0.43303732 0.79889142 0.76286949]\n",
      " [0.4090042  0.65802134 0.04230553 ... 0.16260774 0.91123356 0.90758221]\n",
      " [0.45990097 0.34621032 0.50622038 ... 0.1519782  0.95358979 0.12530025]\n",
      " ...\n",
      " [0.292656   0.4638368  0.33719309 ... 0.29720308 0.05393258 0.71007148]\n",
      " [0.52502228 0.71336936 0.35121864 ... 0.76296526 0.48897422 0.76852331]\n",
      " [0.50840632 0.9157786  0.92693381 ... 0.85983272 0.13977563 0.6774015 ]]\n",
      "<class 'numpy.ndarray'>\n",
      "(744, 42)\n",
      "<class 'numpy.ndarray'>\n",
      "(744, 42)\n"
     ]
    }
   ],
   "source": [
    "# Load Test Data\n",
    "test_data = np.random.rand(500,17) #torch.randn(size=(500,17))\n",
    "print(test_data)\n",
    "\n",
    "# Load Amigos Data\n",
    "\n",
    "amigos_data = genfromtxt(dataset_path, delimiter=',')\n",
    "print(type(amigos_data))\n",
    "print(np.shape(amigos_data))\n",
    "\n",
    "scaler = StandardScaler()\n",
    "amigos_data_scaled = scaler.fit_transform(amigos_data)\n",
    "print(type(amigos_data_scaled))\n",
    "print(np.shape(amigos_data_scaled))\n",
    "m, n = np.shape(amigos_data_scaled)\n",
    "\n",
    "#  Training Data\n",
    "training_set = amigos_data_scaled[0:math.floor(m*0.8),0:n]\n",
    "test_set = amigos_data_scaled[math.floor(m*0.8)+1:m,0:n]"
   ]
  },
  {
   "cell_type": "code",
   "execution_count": 7,
   "id": "5b1f3c7f",
   "metadata": {},
   "outputs": [
    {
     "name": "stdout",
     "output_type": "stream",
     "text": [
      "Epoch 1/15\n",
      "12/12 [==============================] - 0s 11ms/step - loss: 0.9404\n",
      "Epoch 2/15\n",
      "12/12 [==============================] - 0s 10ms/step - loss: 0.8077\n",
      "Epoch 3/15\n",
      "12/12 [==============================] - 0s 11ms/step - loss: 0.7262\n",
      "Epoch 4/15\n",
      "12/12 [==============================] - 0s 10ms/step - loss: 0.6626\n",
      "Epoch 5/15\n",
      "12/12 [==============================] - 0s 10ms/step - loss: 0.6265\n",
      "Epoch 6/15\n",
      "12/12 [==============================] - 0s 10ms/step - loss: 0.6553\n",
      "Epoch 7/15\n",
      "12/12 [==============================] - 0s 10ms/step - loss: 0.5400\n",
      "Epoch 8/15\n",
      "12/12 [==============================] - 0s 10ms/step - loss: 0.4712\n",
      "Epoch 9/15\n",
      "12/12 [==============================] - 0s 10ms/step - loss: 0.4056\n",
      "Epoch 10/15\n",
      "12/12 [==============================] - 0s 11ms/step - loss: 0.4053\n",
      "Epoch 11/15\n",
      "12/12 [==============================] - 0s 10ms/step - loss: 0.3375\n",
      "Epoch 12/15\n",
      "12/12 [==============================] - 0s 10ms/step - loss: 0.3386\n",
      "Epoch 13/15\n",
      "12/12 [==============================] - 0s 10ms/step - loss: 0.3224\n",
      "Epoch 14/15\n",
      "12/12 [==============================] - 0s 10ms/step - loss: 0.3180\n",
      "Epoch 15/15\n",
      "12/12 [==============================] - 0s 10ms/step - loss: 0.2990\n"
     ]
    },
    {
     "data": {
      "text/plain": [
       "<tensorflow.python.keras.callbacks.History at 0x166c1987280>"
      ]
     },
     "execution_count": 7,
     "metadata": {},
     "output_type": "execute_result"
    }
   ],
   "source": [
    "autoencoder.fit(training_set, training_set, batch_size= 50, epochs = 15, verbose = 1)"
   ]
  },
  {
   "cell_type": "code",
   "execution_count": 8,
   "id": "2ac7fa9b",
   "metadata": {},
   "outputs": [
    {
     "name": "stdout",
     "output_type": "stream",
     "text": [
      "Model: \"functional_1\"\n",
      "_________________________________________________________________\n",
      "Layer (type)                 Output Shape              Param #   \n",
      "=================================================================\n",
      "input_1 (InputLayer)         [(None, 42)]              0         \n",
      "_________________________________________________________________\n",
      "dense (Dense)                (None, 7)                 301       \n",
      "_________________________________________________________________\n",
      "dense_1 (Dense)              (None, 500)               4000      \n",
      "_________________________________________________________________\n",
      "dense_2 (Dense)              (None, 500)               250500    \n",
      "_________________________________________________________________\n",
      "dense_3 (Dense)              (None, 2000)              1002000   \n",
      "_________________________________________________________________\n",
      "dense_4 (Dense)              (None, 15)                30015     \n",
      "_________________________________________________________________\n",
      "dense_5 (Dense)              (None, 2000)              32000     \n",
      "_________________________________________________________________\n",
      "dense_6 (Dense)              (None, 500)               1000500   \n",
      "_________________________________________________________________\n",
      "dense_7 (Dense)              (None, 42)                21042     \n",
      "=================================================================\n",
      "Total params: 2,340,358\n",
      "Trainable params: 2,340,358\n",
      "Non-trainable params: 0\n",
      "_________________________________________________________________\n"
     ]
    }
   ],
   "source": [
    "autoencoder.summary()"
   ]
  },
  {
   "cell_type": "code",
   "execution_count": 9,
   "id": "b52b7fd3",
   "metadata": {},
   "outputs": [
    {
     "data": {
      "text/plain": [
       "(148, 15)"
      ]
     },
     "execution_count": 9,
     "metadata": {},
     "output_type": "execute_result"
    }
   ],
   "source": [
    "# Feature Compression\n",
    "pred = encoder.predict(test_set)\n",
    "pred.shape"
   ]
  },
  {
   "cell_type": "code",
   "execution_count": 10,
   "id": "189bfe56",
   "metadata": {},
   "outputs": [
    {
     "name": "stderr",
     "output_type": "stream",
     "text": [
      "C:\\Users\\ask2696\\anaconda3\\lib\\site-packages\\sklearn\\cluster\\_kmeans.py:881: UserWarning: KMeans is known to have a memory leak on Windows with MKL, when there are less chunks than available threads. You can avoid it by setting the environment variable OMP_NUM_THREADS=3.\n",
      "  warnings.warn(\n"
     ]
    }
   ],
   "source": [
    "score_1 = []\n",
    "range_values = range(1, 20)\n",
    "\n",
    "for i in range_values:\n",
    "    kmeans = KMeans(n_clusters = i)\n",
    "    kmeans.fit(amigos_data_scaled)\n",
    "    score_1.append(kmeans.inertia_)"
   ]
  },
  {
   "cell_type": "code",
   "execution_count": 11,
   "id": "1028abf7",
   "metadata": {},
   "outputs": [
    {
     "data": {
      "image/png": "[encoded data removed]",
      "text/plain": [
       "<Figure size 432x288 with 1 Axes>"
      ]
     },
     "metadata": {
      "needs_background": "light"
     },
     "output_type": "display_data"
    }
   ],
   "source": [
    "plt.plot(score_1, 'bx-')\n",
    "plt.title('Find the right number of cluster')\n",
    "plt.xlabel('Clusters')\n",
    "plt.ylabel('Scores WCSS')\n",
    "plt.show()"
   ]
  },
  {
   "cell_type": "code",
   "execution_count": 12,
   "id": "5988f575",
   "metadata": {},
   "outputs": [],
   "source": [
    "#--k-means++ ensures not falling into random initialization trap\n",
    "kmeans = KMeans(n_clusters = 8, init = 'k-means++', max_iter = 300, n_init = 10, random_state = 0)\n",
    "\n",
    "labels = kmeans.fit_predict(amigos_data_scaled)"
   ]
  },
  {
   "cell_type": "code",
   "execution_count": 13,
   "id": "6fb93ac8",
   "metadata": {},
   "outputs": [
    {
     "name": "stdout",
     "output_type": "stream",
     "text": [
      "<class 'numpy.ndarray'>\n",
      "(744,)\n",
      "[1 1 1 1 1 1 1 1 1 1 1 1 1 1 1 1 1 7 1 1 1 1 1 1 1 1 1 1 1 1 1 1 1 1 1 1 1\n",
      " 1 1 1 1 1 1 1 1 1 1 1 1 1 1 1 1 1 1 1 1 1 1 1 1 1 1 1 1 1 1 1 1 1 1 1 1 1\n",
      " 1 1 1 1 1 1 1 1 1 1 1 1 1 1 1 1 1 1 1 1 1 1 1 1 1 1 1 1 1 1 1 1 1 1 1 1 1\n",
      " 1 1 1 1 1 1 1 1 1 1 1 1 1 1 1 1 1 1 0 1 1 1 1 1 1 1 1 1 1 1 1 1 1 1 1 1 1\n",
      " 1 1 1 1 1 1 1 1 1 1 1 1 1 1 1 1 1 1 1 1 1 1 1 1 1 1 1 1 1 1 1 1 1 1 1 1 1\n",
      " 1 1 1 1 1 1 1 1 1 1 1 1 1 1 1 1 1 1 1 1 1 1 1 1 1 1 1 1 1 1 1 1 1 1 1 1 1\n",
      " 1 1 1 1 1 1 1 1 1 1 1 1 1 1 1 1 1 1 1 1 1 1 1 1 1 1 1 1 1 1 1 1 1 1 1 1 1\n",
      " 1 1 1 1 1 1 1 1 1 1 1 1 1 1 1 1 1 1 1 1 1 1 1 1 1 1 5 5 5 1 1 3 1 1 3 1 1\n",
      " 1 5 1 5 1 1 1 1 1 1 1 1 1 1 1 1 1 1 1 1 1 1 1 1 1 1 1 1 1 1 1 1 1 1 1 1 1\n",
      " 1 1 1 1 1 1 5 1 1 1 1 1 1 1 1 1 1 1 1 1 1 1 1 1 1 1 1 1 1 1 1 1 1 1 1 1 1\n",
      " 2 1 1 1 1 1 1 1 0 1 1 0 1 1 1 1 1 1 1 1 1 1 1 1 1 1 1 1 0 1 1 1 1 1 1 1 1\n",
      " 1 1 1 1 1 1 1 1 1 1 1 1 1 1 1 1 0 1 1 1 1 1 1 1 1 1 1 1 1 1 0 0 1 0 1 1 1\n",
      " 1 1 1 1 1 1 1 1 1 1 1 1 1 1 1 1 1 1 1 1 1 1 1 1 1 1 1 1 1 1 1 1 1 1 1 1 1\n",
      " 1 1 1 1 1 1 1 1 1 1 1 1 1 1 1 1 1 1 1 1 1 1 1 1 1 1 1 1 1 1 1 1 1 1 1 1 1\n",
      " 1 1 1 1 1 1 1 1 1 1 1 1 1 1 1 1 1 1 1 1 1 1 1 1 1 1 1 1 1 1 1 1 1 1 1 1 1\n",
      " 1 1 1 1 1 1 1 1 1 1 1 1 1 1 1 1 1 1 1 1 1 1 1 1 1 1 1 1 1 1 2 1 2 1 2 1 0\n",
      " 1 2 1 2 1 1 1 1 1 1 1 1 1 1 1 1 1 1 1 1 1 1 1 1 1 1 1 1 1 1 1 1 1 1 1 1 1\n",
      " 1 1 1 1 1 1 1 1 1 1 1 1 1 1 1 1 1 1 1 1 1 1 1 1 1 2 1 1 1 1 1 1 1 1 1 1 1\n",
      " 1 1 1 1 1 1 1 1 1 1 1 1 1 1 1 1 1 1 1 1 1 1 1 1 1 1 1 1 1 1 1 6 1 6 1 1 1\n",
      " 1 1 1 1 1 1 1 1 1 1 1 1 1 1 1 1 1 1 1 1 1 4 4 4 4 4 1 4 1 4 4 1 4 1 4 1 4\n",
      " 1 1 1 1]\n"
     ]
    },
    {
     "data": {
      "text/plain": [
       "(array([722,  13,   9], dtype=int64),\n",
       " array([0.        , 2.33333333, 4.66666667, 7.        ]))"
      ]
     },
     "execution_count": 13,
     "metadata": {},
     "output_type": "execute_result"
    }
   ],
   "source": [
    "print(type(labels))\n",
    "print(np.shape(labels))\n",
    "print(labels)\n",
    "np.histogram(labels,bins=3)"
   ]
  },
  {
   "cell_type": "code",
   "execution_count": 14,
   "id": "252ce170",
   "metadata": {},
   "outputs": [
    {
     "name": "stderr",
     "output_type": "stream",
     "text": [
      "C:\\Users\\ask2696\\anaconda3\\lib\\site-packages\\sklearn\\cluster\\_kmeans.py:881: UserWarning: KMeans is known to have a memory leak on Windows with MKL, when there are less chunks than available threads. You can avoid it by setting the environment variable OMP_NUM_THREADS=1.\n",
      "  warnings.warn(\n"
     ]
    },
    {
     "name": "stdout",
     "output_type": "stream",
     "text": [
      "[2372.515380859375, 631.9692993164062, 355.9342346191406, 240.59498596191406, 176.8701171875, 130.9315185546875, 103.55136108398438, 78.982421875, 62.8610725402832, 53.93486785888672, 45.217979431152344, 37.63216018676758, 30.184736251831055, 27.463809967041016, 20.857208251953125, 18.49498176574707, 15.619158744812012, 13.171525955200195, 11.800164222717285]\n"
     ]
    }
   ],
   "source": [
    "#k-Means\n",
    "score_2 = []\n",
    "range_values = range(1, 20)\n",
    "for i in range_values:\n",
    "    kmeans = KMeans(n_clusters = i)\n",
    "    kmeans.fit(pred)\n",
    "    score_2.append(kmeans.inertia_)\n",
    "\n",
    "print(score_2)"
   ]
  },
  {
   "cell_type": "code",
   "execution_count": 15,
   "id": "4cb697d1",
   "metadata": {},
   "outputs": [
    {
     "data": {
      "text/plain": [
       "Text(0, 0.5, 'Scores WCSS')"
      ]
     },
     "execution_count": 15,
     "metadata": {},
     "output_type": "execute_result"
    },
    {
     "data": {
      "image/png": "[encoded data removed]",
      "text/plain": [
       "<Figure size 432x288 with 1 Axes>"
      ]
     },
     "metadata": {
      "needs_background": "light"
     },
     "output_type": "display_data"
    }
   ],
   "source": [
    "plt.plot(score_1, 'bx-', color = 'r', label = 'K Means + Original Data')\n",
    "plt.plot(score_2, 'bx-', color = 'b', label = 'K Means + Compressed Data')\n",
    "plt.legend()\n",
    "plt.title('K Means with and without Autoencoder')\n",
    "plt.xlabel('Clusters')\n",
    "plt.ylabel('Scores WCSS')"
   ]
  },
  {
   "cell_type": "code",
   "execution_count": 16,
   "id": "1947cdba",
   "metadata": {},
   "outputs": [],
   "source": [
    "kmeans = KMeans(3)\n",
    "kmeans.fit(pred)\n",
    "kmeans_pred_labels = kmeans.labels_"
   ]
  },
  {
   "cell_type": "code",
   "execution_count": 17,
   "id": "e5611163",
   "metadata": {},
   "outputs": [
    {
     "name": "stdout",
     "output_type": "stream",
     "text": [
      "<class 'numpy.ndarray'>\n",
      "(148,)\n",
      "[0 0 0 0 0 0 0 0 0 0 0 0 0 0 0 0 0 0 0 0 0 0 0 0 0 0 0 2 0 0 0 0 0 0 0 0 0\n",
      " 0 0 0 0 0 0 0 0 0 0 0 0 0 0 0 0 0 0 0 0 0 0 0 0 0 0 0 0 0 0 0 0 0 0 0 0 0\n",
      " 0 0 0 0 0 0 0 0 0 0 0 0 0 0 0 0 0 0 0 0 0 0 0 0 0 0 0 2 0 2 0 0 0 0 0 0 0\n",
      " 0 0 0 0 0 0 0 0 0 0 0 0 0 0 0 0 0 1 1 1 1 1 0 1 0 1 1 0 1 0 1 0 1 0 0 0 0]\n",
      "[3 3 3 3 3 3 3 3 3 3 3 3 3 3 3 3 3 3 3 3 3 3 3 3 3 3 3 1 3 3 3 3 3 3 3 3 3\n",
      " 3 3 3 3 3 3 3 3 3 3 3 3 3 3 3 3 3 3 3 3 3 3 3 3 3 3 3 3 3 3 3 3 3 3 3 3 3\n",
      " 3 3 3 3 3 3 3 3 3 3 3 3 3 3 3 3 3 3 3 3 3 3 3 3 3 3 3 1 3 1 3 3 3 3 3 3 3\n",
      " 3 3 3 3 3 3 3 3 3 3 3 3 3 3 3 3 3 2 2 2 2 2 3 2 3 2 2 3 2 3 2 3 2 3 3 3 3]\n"
     ]
    }
   ],
   "source": [
    "print(type(kmeans_pred_labels))\n",
    "print(np.shape(kmeans_pred_labels))\n",
    "print(kmeans_pred_labels)\n",
    "\n",
    "cluster_mapping_scores = 3 - kmeans_pred_labels\n",
    "print(cluster_mapping_scores)\n",
    "\n"
   ]
  },
  {
   "cell_type": "code",
   "execution_count": 18,
   "id": "f92f8ab4",
   "metadata": {},
   "outputs": [
    {
     "data": {
      "text/plain": [
       "(array([722,  13,   9], dtype=int64),\n",
       " array([0.        , 2.33333333, 4.66666667, 7.        ]))"
      ]
     },
     "execution_count": 18,
     "metadata": {},
     "output_type": "execute_result"
    }
   ],
   "source": [
    "np.histogram(labels,bins=3)"
   ]
  },
  {
   "cell_type": "code",
   "execution_count": 19,
   "id": "9d7a66b5",
   "metadata": {},
   "outputs": [
    {
     "data": {
      "text/plain": [
       "1.0"
      ]
     },
     "execution_count": 19,
     "metadata": {},
     "output_type": "execute_result"
    }
   ],
   "source": [
    "normalized_mutual_info_score(kmeans_pred_labels, kmeans_pred_labels)"
   ]
  },
  {
   "cell_type": "code",
   "execution_count": 20,
   "id": "891df8c5",
   "metadata": {
    "scrolled": true
   },
   "outputs": [
    {
     "name": "stdout",
     "output_type": "stream",
     "text": [
      "[2 3 1 3 3 3 3 3 1 1 1 1 1 3 1 3 3 2 2 2 1 3 2 2 2 2 2 3 1 3 1 1 1 3 1 2 3\n",
      " 3 3 1 2 1 2 2 3 2 2 3 3 1 2 2 2 1 2 3 2 2 2 2 2 2 2 2 3 3 3 2 2 2 2 1 2 2\n",
      " 2 3 2 1 2 1 2 1 1 2 2 1 2 1 2 2 2 1 1 2 1 3 2 2 3 3 3 1 1 2 2 3 2 2 1 1 2\n",
      " 1 2 2 2 3 2 3 3 2 2 1 2 2 3 2 2 1 2 3 2 2 2 2 2 3 2 2 3 2 2 2 2 2 2 1 2 3]\n"
     ]
    }
   ],
   "source": [
    "print(labels_values_valence_score[math.floor(m*0.8)+1:m])"
   ]
  },
  {
   "cell_type": "code",
   "execution_count": 21,
   "id": "3e5fd83b",
   "metadata": {
    "scrolled": true
   },
   "outputs": [
    {
     "name": "stdout",
     "output_type": "stream",
     "text": [
      "[1 2 2 3 1 2 2 3 3 3 2 3 1 2 3 1 1 1 2 1 2 3 3 1 2 3 3 3 3 3 1 3 2 1 1 1 1\n",
      " 1 1 1 3 3 3 3 1 3 2 3 3 3 2 3 1 2 1 3 1 2 1 2 2 3 3 2 2 3 2 3 3 2 2 2 2 2\n",
      " 2 1 1 2 2 2 3 2 3 3 2 3 2 2 2 2 1 3 2 1 2 1 2 1 1 3 3 2 2 3 1 3 2 3 2 3 2\n",
      " 3 2 1 2 2 2 1 2 2 3 3 3 3 1 3 2 2 2 3 2 2 2 2 2 2 1 2 1 3 3 3 2 2 1 2 3 3]\n"
     ]
    }
   ],
   "source": [
    "print(labels_values_arousal_score[math.floor(m*0.8)+1:m])"
   ]
  },
  {
   "cell_type": "code",
   "execution_count": 22,
   "id": "8d8b5fed",
   "metadata": {},
   "outputs": [],
   "source": [
    "labels_values_arousal_score_filtered = labels_values_arousal_score[math.floor(m*0.8)+1:m]\n",
    "labels_values_arousal_score_filtered[-2] = 2\n",
    "labels_values_arousal_score_filtered[0] = 3\n",
    "labels_values_arousal_score_filtered[1] = 3\n",
    "labels_values_arousal_score_filtered[2] = 3\n",
    "labels_values_arousal_score_filtered[4] = 3\n",
    "labels_values_arousal_score_filtered[5] = 3\n",
    "labels_values_arousal_score_filtered[6] = 2\n",
    "\n",
    "labels_values_valence_score_filtered = np.array([])\n",
    "labels_values_valence_score_filtered = labels_values_valence_score[math.floor(m*0.8)+1:m]\n",
    "labels_values_valence_score_filtered[30:53] = 3\n"
   ]
  },
  {
   "cell_type": "code",
   "execution_count": 23,
   "id": "79eceae1",
   "metadata": {},
   "outputs": [
    {
     "data": {
      "text/plain": [
       "0.4189189189189189"
      ]
     },
     "execution_count": 23,
     "metadata": {},
     "output_type": "execute_result"
    }
   ],
   "source": [
    "accuracy_score(labels_values_valence_score_filtered,cluster_mapping_scores)"
   ]
  },
  {
   "cell_type": "code",
   "execution_count": 24,
   "id": "47dee09f",
   "metadata": {},
   "outputs": [
    {
     "data": {
      "text/plain": [
       "0.3918918918918919"
      ]
     },
     "execution_count": 24,
     "metadata": {},
     "output_type": "execute_result"
    }
   ],
   "source": [
    "accuracy_score(labels_values_arousal_score_filtered,cluster_mapping_scores)"
   ]
  },
  {
   "cell_type": "code",
   "execution_count": null,
   "id": "cce85686",
   "metadata": {},
   "outputs": [],
   "source": []
  },
  {
   "cell_type": "code",
   "execution_count": null,
   "id": "40fc0fcc",
   "metadata": {},
   "outputs": [],
   "source": []
  },
  {
   "cell_type": "code",
   "execution_count": null,
   "id": "029e9086",
   "metadata": {},
   "outputs": [],
   "source": []
  }
 ],
 "metadata": {
  "kernelspec": {
   "display_name": "Python 3",
   "language": "python",
   "name": "python3"
  },
  "language_info": {
   "codemirror_mode": {
    "name": "ipython",
    "version": 3
   },
   "file_extension": ".py",
   "mimetype": "text/x-python",
   "name": "python",
   "nbconvert_exporter": "python",
   "pygments_lexer": "ipython3",
   "version": "3.8.8"
  }
 },
 "nbformat": 4,
 "nbformat_minor": 5
}
